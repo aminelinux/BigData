{
  "nbformat": 4,
  "nbformat_minor": 0,
  "metadata": {
    "colab": {
      "provenance": [],
      "authorship_tag": "ABX9TyPPx4BeXoyh8TjsldMUXrmW",
      "include_colab_link": true
    },
    "kernelspec": {
      "name": "python3",
      "display_name": "Python 3"
    },
    "language_info": {
      "name": "python"
    }
  },
  "cells": [
    {
      "cell_type": "markdown",
      "metadata": {
        "id": "view-in-github",
        "colab_type": "text"
      },
      "source": [
        "<a href=\"https://colab.research.google.com/github/aminelinux/BigData/blob/main/Copie_de_Untitled5.ipynb\" target=\"_parent\"><img src=\"https://colab.research.google.com/assets/colab-badge.svg\" alt=\"Open In Colab\"/></a>"
      ]
    },
    {
      "cell_type": "code",
      "execution_count": null,
      "metadata": {
        "colab": {
          "base_uri": "https://localhost:8080/"
        },
        "id": "pQxUPbSDJ6ez",
        "outputId": "3843920c-9308-4bf7-d577-e3e308c38add"
      },
      "outputs": [
        {
          "output_type": "stream",
          "name": "stdout",
          "text": [
            "Selecting previously unselected package libxtst6:amd64.\n",
            "(Reading database ... 122545 files and directories currently installed.)\n",
            "Preparing to unpack .../libxtst6_2%3a1.2.3-1_amd64.deb ...\n",
            "Unpacking libxtst6:amd64 (2:1.2.3-1) ...\n",
            "Selecting previously unselected package openjdk-8-jre-headless:amd64.\n",
            "Preparing to unpack .../openjdk-8-jre-headless_8u372-ga~us1-0ubuntu1~20.04_amd64.deb ...\n",
            "Unpacking openjdk-8-jre-headless:amd64 (8u372-ga~us1-0ubuntu1~20.04) ...\n",
            "Selecting previously unselected package openjdk-8-jdk-headless:amd64.\n",
            "Preparing to unpack .../openjdk-8-jdk-headless_8u372-ga~us1-0ubuntu1~20.04_amd64.deb ...\n",
            "Unpacking openjdk-8-jdk-headless:amd64 (8u372-ga~us1-0ubuntu1~20.04) ...\n",
            "Setting up libxtst6:amd64 (2:1.2.3-1) ...\n",
            "Setting up openjdk-8-jre-headless:amd64 (8u372-ga~us1-0ubuntu1~20.04) ...\n",
            "update-alternatives: using /usr/lib/jvm/java-8-openjdk-amd64/jre/bin/orbd to provide /usr/bin/orbd (orbd) in auto mode\n",
            "update-alternatives: using /usr/lib/jvm/java-8-openjdk-amd64/jre/bin/servertool to provide /usr/bin/servertool (servertool) in auto mode\n",
            "update-alternatives: using /usr/lib/jvm/java-8-openjdk-amd64/jre/bin/tnameserv to provide /usr/bin/tnameserv (tnameserv) in auto mode\n",
            "Setting up openjdk-8-jdk-headless:amd64 (8u372-ga~us1-0ubuntu1~20.04) ...\n",
            "update-alternatives: using /usr/lib/jvm/java-8-openjdk-amd64/bin/idlj to provide /usr/bin/idlj (idlj) in auto mode\n",
            "update-alternatives: using /usr/lib/jvm/java-8-openjdk-amd64/bin/wsimport to provide /usr/bin/wsimport (wsimport) in auto mode\n",
            "update-alternatives: using /usr/lib/jvm/java-8-openjdk-amd64/bin/jsadebugd to provide /usr/bin/jsadebugd (jsadebugd) in auto mode\n",
            "update-alternatives: using /usr/lib/jvm/java-8-openjdk-amd64/bin/native2ascii to provide /usr/bin/native2ascii (native2ascii) in auto mode\n",
            "update-alternatives: using /usr/lib/jvm/java-8-openjdk-amd64/bin/javah to provide /usr/bin/javah (javah) in auto mode\n",
            "update-alternatives: using /usr/lib/jvm/java-8-openjdk-amd64/bin/clhsdb to provide /usr/bin/clhsdb (clhsdb) in auto mode\n",
            "update-alternatives: using /usr/lib/jvm/java-8-openjdk-amd64/bin/jhat to provide /usr/bin/jhat (jhat) in auto mode\n",
            "update-alternatives: using /usr/lib/jvm/java-8-openjdk-amd64/bin/extcheck to provide /usr/bin/extcheck (extcheck) in auto mode\n",
            "update-alternatives: using /usr/lib/jvm/java-8-openjdk-amd64/bin/hsdb to provide /usr/bin/hsdb (hsdb) in auto mode\n",
            "update-alternatives: using /usr/lib/jvm/java-8-openjdk-amd64/bin/schemagen to provide /usr/bin/schemagen (schemagen) in auto mode\n",
            "update-alternatives: using /usr/lib/jvm/java-8-openjdk-amd64/bin/xjc to provide /usr/bin/xjc (xjc) in auto mode\n",
            "update-alternatives: using /usr/lib/jvm/java-8-openjdk-amd64/bin/wsgen to provide /usr/bin/wsgen (wsgen) in auto mode\n",
            "Processing triggers for libc-bin (2.31-0ubuntu9.9) ...\n"
          ]
        }
      ],
      "source": [
        "!apt-get install openjdk-8-jdk-headless -qq\n"
      ]
    },
    {
      "cell_type": "code",
      "source": [
        "!wget https://archive.apache.org/dist/spark/spark-3.1.2/spark-3.1.2-bin-hadoop3.2.tgz\n",
        "\n",
        "\n"
      ],
      "metadata": {
        "colab": {
          "base_uri": "https://localhost:8080/"
        },
        "id": "cs9V9F9vKWhp",
        "outputId": "016e2dd0-39a5-490f-bcad-afd7825bdf0c"
      },
      "execution_count": null,
      "outputs": [
        {
          "output_type": "stream",
          "name": "stdout",
          "text": [
            "--2023-05-31 22:31:13--  https://archive.apache.org/dist/spark/spark-3.1.2/spark-3.1.2-bin-hadoop3.2.tgz\n",
            "Resolving archive.apache.org (archive.apache.org)... 65.108.204.189, 2a01:4f9:1a:a084::2\n",
            "Connecting to archive.apache.org (archive.apache.org)|65.108.204.189|:443... connected.\n",
            "HTTP request sent, awaiting response... 200 OK\n",
            "Length: 228834641 (218M) [application/x-gzip]\n",
            "Saving to: ‘spark-3.1.2-bin-hadoop3.2.tgz’\n",
            "\n",
            "spark-3.1.2-bin-had 100%[===================>] 218.23M  28.1MB/s    in 8.4s    \n",
            "\n",
            "2023-05-31 22:31:22 (25.9 MB/s) - ‘spark-3.1.2-bin-hadoop3.2.tgz’ saved [228834641/228834641]\n",
            "\n"
          ]
        }
      ]
    },
    {
      "cell_type": "code",
      "source": [
        "!tar xf spark-3.1.2-bin-hadoop3.2.tgz\n"
      ],
      "metadata": {
        "id": "K7F7GMxLKf8e"
      },
      "execution_count": null,
      "outputs": []
    },
    {
      "cell_type": "code",
      "source": [
        "!pip install pyspark"
      ],
      "metadata": {
        "colab": {
          "base_uri": "https://localhost:8080/"
        },
        "id": "svn3tJUOLveG",
        "outputId": "27acd42b-7292-42c3-92d9-30d06d645e68"
      },
      "execution_count": null,
      "outputs": [
        {
          "output_type": "stream",
          "name": "stdout",
          "text": [
            "Looking in indexes: https://pypi.org/simple, https://us-python.pkg.dev/colab-wheels/public/simple/\n",
            "Collecting pyspark\n",
            "  Downloading pyspark-3.4.0.tar.gz (310.8 MB)\n",
            "\u001b[2K     \u001b[90m━━━━━━━━━━━━━━━━━━━━━━━━━━━━━━━━━━━━━━━\u001b[0m \u001b[32m310.8/310.8 MB\u001b[0m \u001b[31m2.6 MB/s\u001b[0m eta \u001b[36m0:00:00\u001b[0m\n",
            "\u001b[?25h  Preparing metadata (setup.py) ... \u001b[?25l\u001b[?25hdone\n",
            "Requirement already satisfied: py4j==0.10.9.7 in /usr/local/lib/python3.10/dist-packages (from pyspark) (0.10.9.7)\n",
            "Building wheels for collected packages: pyspark\n",
            "  Building wheel for pyspark (setup.py) ... \u001b[?25l\u001b[?25hdone\n",
            "  Created wheel for pyspark: filename=pyspark-3.4.0-py2.py3-none-any.whl size=311317130 sha256=94605eb1743207af5ee20e36263b86ce42dd88eca9d1442ff9056cbc17ba1dd6\n",
            "  Stored in directory: /root/.cache/pip/wheels/7b/1b/4b/3363a1d04368e7ff0d408e57ff57966fcdf00583774e761327\n",
            "Successfully built pyspark\n",
            "Installing collected packages: pyspark\n",
            "Successfully installed pyspark-3.4.0\n"
          ]
        }
      ]
    },
    {
      "cell_type": "code",
      "source": [
        "import os\n",
        "\n",
        "os.environ['JAVA_HOME'] = '/usr/lib/jvm/java-8-openjdk-amd64'\n",
        "os.environ['SPARK_HOME'] = '/content/spark-3.1.2-bin-hadoop3.2'"
      ],
      "metadata": {
        "id": "rawYaWHKMGD8"
      },
      "execution_count": null,
      "outputs": []
    },
    {
      "cell_type": "code",
      "source": [
        "from pyspark.sql import SparkSession\n",
        "\n",
        "spark = SparkSession.builder.master(\"local[*]\").getOrCreate()\n"
      ],
      "metadata": {
        "id": "ufufNQaCMV9J"
      },
      "execution_count": null,
      "outputs": []
    },
    {
      "cell_type": "code",
      "source": [
        "from google.colab import files\n",
        "\n",
        "uploaded = files.upload()"
      ],
      "metadata": {
        "colab": {
          "base_uri": "https://localhost:8080/",
          "height": 38
        },
        "id": "FCG4N6aGNLs0",
        "outputId": "06778185-db4e-4d30-c208-add3a5c73088"
      },
      "execution_count": null,
      "outputs": [
        {
          "output_type": "display_data",
          "data": {
            "text/plain": [
              "<IPython.core.display.HTML object>"
            ],
            "text/html": [
              "\n",
              "     <input type=\"file\" id=\"files-886dc003-56fb-4216-8c13-ffe85d855566\" name=\"files[]\" multiple disabled\n",
              "        style=\"border:none\" />\n",
              "     <output id=\"result-886dc003-56fb-4216-8c13-ffe85d855566\">\n",
              "      Upload widget is only available when the cell has been executed in the\n",
              "      current browser session. Please rerun this cell to enable.\n",
              "      </output>\n",
              "      <script>// Copyright 2017 Google LLC\n",
              "//\n",
              "// Licensed under the Apache License, Version 2.0 (the \"License\");\n",
              "// you may not use this file except in compliance with the License.\n",
              "// You may obtain a copy of the License at\n",
              "//\n",
              "//      http://www.apache.org/licenses/LICENSE-2.0\n",
              "//\n",
              "// Unless required by applicable law or agreed to in writing, software\n",
              "// distributed under the License is distributed on an \"AS IS\" BASIS,\n",
              "// WITHOUT WARRANTIES OR CONDITIONS OF ANY KIND, either express or implied.\n",
              "// See the License for the specific language governing permissions and\n",
              "// limitations under the License.\n",
              "\n",
              "/**\n",
              " * @fileoverview Helpers for google.colab Python module.\n",
              " */\n",
              "(function(scope) {\n",
              "function span(text, styleAttributes = {}) {\n",
              "  const element = document.createElement('span');\n",
              "  element.textContent = text;\n",
              "  for (const key of Object.keys(styleAttributes)) {\n",
              "    element.style[key] = styleAttributes[key];\n",
              "  }\n",
              "  return element;\n",
              "}\n",
              "\n",
              "// Max number of bytes which will be uploaded at a time.\n",
              "const MAX_PAYLOAD_SIZE = 100 * 1024;\n",
              "\n",
              "function _uploadFiles(inputId, outputId) {\n",
              "  const steps = uploadFilesStep(inputId, outputId);\n",
              "  const outputElement = document.getElementById(outputId);\n",
              "  // Cache steps on the outputElement to make it available for the next call\n",
              "  // to uploadFilesContinue from Python.\n",
              "  outputElement.steps = steps;\n",
              "\n",
              "  return _uploadFilesContinue(outputId);\n",
              "}\n",
              "\n",
              "// This is roughly an async generator (not supported in the browser yet),\n",
              "// where there are multiple asynchronous steps and the Python side is going\n",
              "// to poll for completion of each step.\n",
              "// This uses a Promise to block the python side on completion of each step,\n",
              "// then passes the result of the previous step as the input to the next step.\n",
              "function _uploadFilesContinue(outputId) {\n",
              "  const outputElement = document.getElementById(outputId);\n",
              "  const steps = outputElement.steps;\n",
              "\n",
              "  const next = steps.next(outputElement.lastPromiseValue);\n",
              "  return Promise.resolve(next.value.promise).then((value) => {\n",
              "    // Cache the last promise value to make it available to the next\n",
              "    // step of the generator.\n",
              "    outputElement.lastPromiseValue = value;\n",
              "    return next.value.response;\n",
              "  });\n",
              "}\n",
              "\n",
              "/**\n",
              " * Generator function which is called between each async step of the upload\n",
              " * process.\n",
              " * @param {string} inputId Element ID of the input file picker element.\n",
              " * @param {string} outputId Element ID of the output display.\n",
              " * @return {!Iterable<!Object>} Iterable of next steps.\n",
              " */\n",
              "function* uploadFilesStep(inputId, outputId) {\n",
              "  const inputElement = document.getElementById(inputId);\n",
              "  inputElement.disabled = false;\n",
              "\n",
              "  const outputElement = document.getElementById(outputId);\n",
              "  outputElement.innerHTML = '';\n",
              "\n",
              "  const pickedPromise = new Promise((resolve) => {\n",
              "    inputElement.addEventListener('change', (e) => {\n",
              "      resolve(e.target.files);\n",
              "    });\n",
              "  });\n",
              "\n",
              "  const cancel = document.createElement('button');\n",
              "  inputElement.parentElement.appendChild(cancel);\n",
              "  cancel.textContent = 'Cancel upload';\n",
              "  const cancelPromise = new Promise((resolve) => {\n",
              "    cancel.onclick = () => {\n",
              "      resolve(null);\n",
              "    };\n",
              "  });\n",
              "\n",
              "  // Wait for the user to pick the files.\n",
              "  const files = yield {\n",
              "    promise: Promise.race([pickedPromise, cancelPromise]),\n",
              "    response: {\n",
              "      action: 'starting',\n",
              "    }\n",
              "  };\n",
              "\n",
              "  cancel.remove();\n",
              "\n",
              "  // Disable the input element since further picks are not allowed.\n",
              "  inputElement.disabled = true;\n",
              "\n",
              "  if (!files) {\n",
              "    return {\n",
              "      response: {\n",
              "        action: 'complete',\n",
              "      }\n",
              "    };\n",
              "  }\n",
              "\n",
              "  for (const file of files) {\n",
              "    const li = document.createElement('li');\n",
              "    li.append(span(file.name, {fontWeight: 'bold'}));\n",
              "    li.append(span(\n",
              "        `(${file.type || 'n/a'}) - ${file.size} bytes, ` +\n",
              "        `last modified: ${\n",
              "            file.lastModifiedDate ? file.lastModifiedDate.toLocaleDateString() :\n",
              "                                    'n/a'} - `));\n",
              "    const percent = span('0% done');\n",
              "    li.appendChild(percent);\n",
              "\n",
              "    outputElement.appendChild(li);\n",
              "\n",
              "    const fileDataPromise = new Promise((resolve) => {\n",
              "      const reader = new FileReader();\n",
              "      reader.onload = (e) => {\n",
              "        resolve(e.target.result);\n",
              "      };\n",
              "      reader.readAsArrayBuffer(file);\n",
              "    });\n",
              "    // Wait for the data to be ready.\n",
              "    let fileData = yield {\n",
              "      promise: fileDataPromise,\n",
              "      response: {\n",
              "        action: 'continue',\n",
              "      }\n",
              "    };\n",
              "\n",
              "    // Use a chunked sending to avoid message size limits. See b/62115660.\n",
              "    let position = 0;\n",
              "    do {\n",
              "      const length = Math.min(fileData.byteLength - position, MAX_PAYLOAD_SIZE);\n",
              "      const chunk = new Uint8Array(fileData, position, length);\n",
              "      position += length;\n",
              "\n",
              "      const base64 = btoa(String.fromCharCode.apply(null, chunk));\n",
              "      yield {\n",
              "        response: {\n",
              "          action: 'append',\n",
              "          file: file.name,\n",
              "          data: base64,\n",
              "        },\n",
              "      };\n",
              "\n",
              "      let percentDone = fileData.byteLength === 0 ?\n",
              "          100 :\n",
              "          Math.round((position / fileData.byteLength) * 100);\n",
              "      percent.textContent = `${percentDone}% done`;\n",
              "\n",
              "    } while (position < fileData.byteLength);\n",
              "  }\n",
              "\n",
              "  // All done.\n",
              "  yield {\n",
              "    response: {\n",
              "      action: 'complete',\n",
              "    }\n",
              "  };\n",
              "}\n",
              "\n",
              "scope.google = scope.google || {};\n",
              "scope.google.colab = scope.google.colab || {};\n",
              "scope.google.colab._files = {\n",
              "  _uploadFiles,\n",
              "  _uploadFilesContinue,\n",
              "};\n",
              "})(self);\n",
              "</script> "
            ]
          },
          "metadata": {}
        }
      ]
    },
    {
      "cell_type": "code",
      "source": [
        "df = spark.read.csv ('gen4_2023-05-27.csv',header=True,inferSchema=True)"
      ],
      "metadata": {
        "id": "Dxs7pERNN1oL"
      },
      "execution_count": null,
      "outputs": []
    },
    {
      "cell_type": "code",
      "source": [
        "df.show()"
      ],
      "metadata": {
        "colab": {
          "base_uri": "https://localhost:8080/"
        },
        "id": "RdW3f1EDPJXn",
        "outputId": "f9471611-7332-4bb3-c4d0-40dd1ac58cd2"
      },
      "execution_count": null,
      "outputs": [
        {
          "output_type": "stream",
          "name": "stdout",
          "text": [
            "+---+--------------------+--------------------+--------------------+--------------------+--------------------+--------------------+-----------+---------------------+-------------------+--------------------+---+--------------------+----------------------------+--------------------+-------------+------+----+\n",
            "|_c0|        Dénomination|      Raison Sociale|         Responsable|           Activités|            Produits|             Adresse|Gouvernorat|Téléphone siège/usine|    Fax siège/usine|              E-mail|URL|              Régime|Pays du Participant Etranger|Entrée en production|Capital en DT|Emploi|_c17|\n",
            "+---+--------------------+--------------------+--------------------+--------------------+--------------------+--------------------+-----------+---------------------+-------------------+--------------------+---+--------------------+----------------------------+--------------------+-------------+------+----+\n",
            "|  0|              3 S.B |              3 S.B |Besma Jendoubi Ze...|Instal., entretie...|Instal., entretie...|IMM. SOUAD, RUE M...|     Gafsa |  (216) - 20 050 000 |                   |                    |   |Non totalement ex...|                            |         01/12/2012 |         null|     5|null|\n",
            "|  2|    3E TECHNOLOGIES |EAU, ENERGIES ET ...|      Nejib Chehibi |Instal., entretie...|Instal., entretie...|2, AVE DE FRANCE,...|     Tunis |  (216) - 71 320 619 |(216) - 71 321 290 |                    |   |Non totalement ex...|                            |         09/10/2009 |         null|    15|null|\n",
            "|  3|                 3R |RENOVATION, RECON...|    Lejri Med Salah |Instal., entretie...|Instal., entretie...|CITE EZZOUHOUR - ...|     Gafsa |  (216) - 26 649 448 |(216) - 76 240 455 |                    |   |Non totalement ex...|                            |         05/05/2010 |         null|    22|null|\n",
            "|  4|      AFIF TRABELSI |      AFIF TRABELSI |      Afif Trabelsi |Instal., entretie...|Instal., entretie...|CITE ESSOUED - 31...|  Kairouan |  (216) - 95 006 406 |                   |                    |   |Non totalement ex...|                            |         04/04/1993 |         null|     2|null|\n",
            "|  5|           AFRITECH |       STE AFRITECH |      Amine Dagdoug |Instal., entretie...|Instal., entretie...|IMM. RAYHANA, BUR...|      Sfax |  (216) - 25 244 495 |                   |                    |   |Non totalement ex...|                            |         01/09/2012 |         null|     2|null|\n",
            "|  6|         ALI JARRAY |         ALI JARRAY |         Ali Jarray |Installation, ent...|Installation, ent...|RUE ALI IBN ABI T...|  Kairouan |  (216) - 22 769 579 |                   |                    |   |Non totalement ex...|                            |         10/03/2002 |         null|     2|null|\n",
            "|  7|ALL INDUSTRIAL SE...|ALL INDUSTRIAL SE...|       Rekik Ouadie |Instal., entretie...|Instal., entretie...|RUE ABOU EL HASSE...|      Sfax |  (216) - 25 806 800 |(216) - 74 415 191 |ouadierekik@hotma...|   |Non totalement ex...|                            |         10/07/2010 |         null|     4|null|\n",
            "|  8|                APS |                APS |      Wissem Kraiem |Instal., entretie...|Instal., entretie...|RTE MENZEL CHAKER...|      Sfax |  (216) - 74 218 023 |(216) - 74 298 100 |                    |   |Non totalement ex...|                            |         01/02/2012 |         null|     3|null|\n",
            "|  9|           AQUA JET |       STE AQUA JET |   Nabil Ben Othman |Instal., entretie...|Instal., entretie...|RUE HALIMA, HOUME...|    Mahdia |  (216) - 28 689 586 |                   |                    |   |Non totalement ex...|                            |         15/12/2014 |         null|     1|null|\n",
            "| 10|            AQUANET |        STE AQUANET |       Kamel Doghri |Instal., entretie...|Instal., entretie...|68, RUE FARHAT HA...|     Tunis |  (216) - 71 331 127 |(216) - 71 331 129 |tarek.jemaa@aquan...|   |Non totalement ex...|                     France |         16/09/2009 |         null|    10|null|\n",
            "| 11|ATD ELECTRONIC SE...|ATD ELECTRONIC SE...|Mohamed Sofiane E...|Instal., entretie...|Instal., entretie...|51, AVENUE DE CAR...|     Tunis |  (216) - 71 778 648 |(216) - 71 778 687 |info@atdelectroni...|   |Totalement export...|                            |         18/10/2013 |         null|    11|null|\n",
            "| 12|ATELIER DU PORT P...|STE ATELIER DU PO...|    Mourad Baazouzi |Instal., entretie...|Instal., entretie...|Z.I. MUNICIPALE D...| Ben Arous |  (216) - 71 444 055 |(216) - 71 446 977 |                    |   |Totalement export...|                            |         30/06/2015 |         null|    52|null|\n",
            "| 13|ATELIER DU PORT P...|ATELIER DU PORT P...|   Mourad Bouazouzi |Instal., entretie...|Instal., entretie...|Z.I. MUNICIPALE D...| Ben Arous |  (216) - 71 447 633 |(216) - 71 446 977 |                    |   |Totalement export...|                            |         30/06/2015 |         null|    62|null|\n",
            "| 14|          ATTAKA PV |      STE ATTAKA PV |   Ben Jemaa Mourad |Instal., entretie...|Instal., entretie...|ROUTE ELHSAY GHLI...|    Kébili |  (216) - 22 487 237 |                   |                    |   |Non totalement ex...|                            |         15/10/2016 |         null|     5|null|\n",
            "| 15|       AYADI HICHEM |       AYADI HICHEM |       Ayadi Hichem |Instal., entretie...|Instal., entretie...|RTE DE GREMDA KM ...|      Sfax |  (216) - 99 233 949 |                   |                    |   |Non totalement ex...|                            |         30/06/2009 |         null|     3|null|\n",
            "| 16|BAHRIA-SCHUCH MAI...|BAHRIA-SCHUCH MAI...|    Belgacem Farhat |Instal., entretie...|Instal., entretie...|RTE DE MONASTIR, ...|    Sousse |  (216) - 36 402 231 |(216) - 73 322 778 |bahria_schuch@top...|   |Non totalement ex...|                  Allemagne |         01/02/2009 |         null|    17|null|\n",
            "| 17| BAYOUDH SLAHEDDINE | BAYOUDH SLAHEDDINE | Bayoudh Slaheddine |Installation, mon...|Installation, mon...|PEPINIERE DES ENT...|    Mahdia |                     |                   |                    |   |Non totalement ex...|                            |         09/09/2014 |         null|     3|null|\n",
            "| 18|     BELHADJ WISSEM |     BELHADJ WISSEM |Belhadj Wissem Be...|Installation, ent...|Installation, ent...|AVE 2 MARS 1934 -...|    Mahdia |  (216) - 97 118 310 |                   |                    |   |Non totalement ex...|                            |         01/12/2010 |         null|     2|null|\n",
            "| 19|BEN ABDERRAHIM ZIED |STE BEN ABDERRAHI...|Ben Abderrahim Zied |Instal., entretie...|Instal., entretie...|CITE ABEDLA- DOUZ...|    Kébili |  (216) - 21 070 160 |                   |                    |   |Non totalement ex...|                            |         15/02/2017 |         null|     3|null|\n",
            "| 20|     BEN HAMDA OMAR |     BEN HAMDA OMAR |     Ben Hamda Omar |Instal., entretie...|Instal., entretie...|RTE DE TUNIS KM 1...|      Sfax |  (216) - 96 639 760 |                   |                    |   |Non totalement ex...|                            |         10/08/2010 |         null|     5|null|\n",
            "+---+--------------------+--------------------+--------------------+--------------------+--------------------+--------------------+-----------+---------------------+-------------------+--------------------+---+--------------------+----------------------------+--------------------+-------------+------+----+\n",
            "only showing top 20 rows\n",
            "\n"
          ]
        }
      ]
    },
    {
      "cell_type": "code",
      "source": [
        "df_dropped = df.drop('_c0')\n",
        "df_dropped.show()"
      ],
      "metadata": {
        "colab": {
          "base_uri": "https://localhost:8080/"
        },
        "id": "l5xAl_aCQsAp",
        "outputId": "93f372bc-9e2e-41c6-b018-97b48d1a7229"
      },
      "execution_count": null,
      "outputs": [
        {
          "output_type": "stream",
          "name": "stdout",
          "text": [
            "+--------------------+--------------------+--------------------+--------------------+--------------------+--------------------+-----------+---------------------+-------------------+--------------------+---+--------------------+----------------------------+--------------------+-------------+------+----+\n",
            "|        Dénomination|      Raison Sociale|         Responsable|           Activités|            Produits|             Adresse|Gouvernorat|Téléphone siège/usine|    Fax siège/usine|              E-mail|URL|              Régime|Pays du Participant Etranger|Entrée en production|Capital en DT|Emploi|_c17|\n",
            "+--------------------+--------------------+--------------------+--------------------+--------------------+--------------------+-----------+---------------------+-------------------+--------------------+---+--------------------+----------------------------+--------------------+-------------+------+----+\n",
            "|              3 S.B |              3 S.B |Besma Jendoubi Ze...|Instal., entretie...|Instal., entretie...|IMM. SOUAD, RUE M...|     Gafsa |  (216) - 20 050 000 |                   |                    |   |Non totalement ex...|                            |         01/12/2012 |         null|     5|null|\n",
            "|    3E TECHNOLOGIES |EAU, ENERGIES ET ...|      Nejib Chehibi |Instal., entretie...|Instal., entretie...|2, AVE DE FRANCE,...|     Tunis |  (216) - 71 320 619 |(216) - 71 321 290 |                    |   |Non totalement ex...|                            |         09/10/2009 |         null|    15|null|\n",
            "|                 3R |RENOVATION, RECON...|    Lejri Med Salah |Instal., entretie...|Instal., entretie...|CITE EZZOUHOUR - ...|     Gafsa |  (216) - 26 649 448 |(216) - 76 240 455 |                    |   |Non totalement ex...|                            |         05/05/2010 |         null|    22|null|\n",
            "|      AFIF TRABELSI |      AFIF TRABELSI |      Afif Trabelsi |Instal., entretie...|Instal., entretie...|CITE ESSOUED - 31...|  Kairouan |  (216) - 95 006 406 |                   |                    |   |Non totalement ex...|                            |         04/04/1993 |         null|     2|null|\n",
            "|           AFRITECH |       STE AFRITECH |      Amine Dagdoug |Instal., entretie...|Instal., entretie...|IMM. RAYHANA, BUR...|      Sfax |  (216) - 25 244 495 |                   |                    |   |Non totalement ex...|                            |         01/09/2012 |         null|     2|null|\n",
            "|         ALI JARRAY |         ALI JARRAY |         Ali Jarray |Installation, ent...|Installation, ent...|RUE ALI IBN ABI T...|  Kairouan |  (216) - 22 769 579 |                   |                    |   |Non totalement ex...|                            |         10/03/2002 |         null|     2|null|\n",
            "|ALL INDUSTRIAL SE...|ALL INDUSTRIAL SE...|       Rekik Ouadie |Instal., entretie...|Instal., entretie...|RUE ABOU EL HASSE...|      Sfax |  (216) - 25 806 800 |(216) - 74 415 191 |ouadierekik@hotma...|   |Non totalement ex...|                            |         10/07/2010 |         null|     4|null|\n",
            "|                APS |                APS |      Wissem Kraiem |Instal., entretie...|Instal., entretie...|RTE MENZEL CHAKER...|      Sfax |  (216) - 74 218 023 |(216) - 74 298 100 |                    |   |Non totalement ex...|                            |         01/02/2012 |         null|     3|null|\n",
            "|           AQUA JET |       STE AQUA JET |   Nabil Ben Othman |Instal., entretie...|Instal., entretie...|RUE HALIMA, HOUME...|    Mahdia |  (216) - 28 689 586 |                   |                    |   |Non totalement ex...|                            |         15/12/2014 |         null|     1|null|\n",
            "|            AQUANET |        STE AQUANET |       Kamel Doghri |Instal., entretie...|Instal., entretie...|68, RUE FARHAT HA...|     Tunis |  (216) - 71 331 127 |(216) - 71 331 129 |tarek.jemaa@aquan...|   |Non totalement ex...|                     France |         16/09/2009 |         null|    10|null|\n",
            "|ATD ELECTRONIC SE...|ATD ELECTRONIC SE...|Mohamed Sofiane E...|Instal., entretie...|Instal., entretie...|51, AVENUE DE CAR...|     Tunis |  (216) - 71 778 648 |(216) - 71 778 687 |info@atdelectroni...|   |Totalement export...|                            |         18/10/2013 |         null|    11|null|\n",
            "|ATELIER DU PORT P...|STE ATELIER DU PO...|    Mourad Baazouzi |Instal., entretie...|Instal., entretie...|Z.I. MUNICIPALE D...| Ben Arous |  (216) - 71 444 055 |(216) - 71 446 977 |                    |   |Totalement export...|                            |         30/06/2015 |         null|    52|null|\n",
            "|ATELIER DU PORT P...|ATELIER DU PORT P...|   Mourad Bouazouzi |Instal., entretie...|Instal., entretie...|Z.I. MUNICIPALE D...| Ben Arous |  (216) - 71 447 633 |(216) - 71 446 977 |                    |   |Totalement export...|                            |         30/06/2015 |         null|    62|null|\n",
            "|          ATTAKA PV |      STE ATTAKA PV |   Ben Jemaa Mourad |Instal., entretie...|Instal., entretie...|ROUTE ELHSAY GHLI...|    Kébili |  (216) - 22 487 237 |                   |                    |   |Non totalement ex...|                            |         15/10/2016 |         null|     5|null|\n",
            "|       AYADI HICHEM |       AYADI HICHEM |       Ayadi Hichem |Instal., entretie...|Instal., entretie...|RTE DE GREMDA KM ...|      Sfax |  (216) - 99 233 949 |                   |                    |   |Non totalement ex...|                            |         30/06/2009 |         null|     3|null|\n",
            "|BAHRIA-SCHUCH MAI...|BAHRIA-SCHUCH MAI...|    Belgacem Farhat |Instal., entretie...|Instal., entretie...|RTE DE MONASTIR, ...|    Sousse |  (216) - 36 402 231 |(216) - 73 322 778 |bahria_schuch@top...|   |Non totalement ex...|                  Allemagne |         01/02/2009 |         null|    17|null|\n",
            "| BAYOUDH SLAHEDDINE | BAYOUDH SLAHEDDINE | Bayoudh Slaheddine |Installation, mon...|Installation, mon...|PEPINIERE DES ENT...|    Mahdia |                     |                   |                    |   |Non totalement ex...|                            |         09/09/2014 |         null|     3|null|\n",
            "|     BELHADJ WISSEM |     BELHADJ WISSEM |Belhadj Wissem Be...|Installation, ent...|Installation, ent...|AVE 2 MARS 1934 -...|    Mahdia |  (216) - 97 118 310 |                   |                    |   |Non totalement ex...|                            |         01/12/2010 |         null|     2|null|\n",
            "|BEN ABDERRAHIM ZIED |STE BEN ABDERRAHI...|Ben Abderrahim Zied |Instal., entretie...|Instal., entretie...|CITE ABEDLA- DOUZ...|    Kébili |  (216) - 21 070 160 |                   |                    |   |Non totalement ex...|                            |         15/02/2017 |         null|     3|null|\n",
            "|     BEN HAMDA OMAR |     BEN HAMDA OMAR |     Ben Hamda Omar |Instal., entretie...|Instal., entretie...|RTE DE TUNIS KM 1...|      Sfax |  (216) - 96 639 760 |                   |                    |   |Non totalement ex...|                            |         10/08/2010 |         null|     5|null|\n",
            "+--------------------+--------------------+--------------------+--------------------+--------------------+--------------------+-----------+---------------------+-------------------+--------------------+---+--------------------+----------------------------+--------------------+-------------+------+----+\n",
            "only showing top 20 rows\n",
            "\n"
          ]
        }
      ]
    },
    {
      "cell_type": "code",
      "source": [
        "\n",
        "df1 = spark.read.csv ('gen211.csv',header=True,inferSchema=True)"
      ],
      "metadata": {
        "id": "mX5XPbV-Rsfc"
      },
      "execution_count": null,
      "outputs": []
    },
    {
      "cell_type": "code",
      "source": [
        "df1_dropped = df1.drop('_c0')\n",
        "df1_dropped.show()"
      ],
      "metadata": {
        "colab": {
          "base_uri": "https://localhost:8080/"
        },
        "id": "zuQRObQIR4W1",
        "outputId": "4f2faef8-3e0d-4dc4-9b73-811a73993235"
      },
      "execution_count": null,
      "outputs": [
        {
          "output_type": "stream",
          "name": "stdout",
          "text": [
            "+--------------------+--------------------+--------------------+--------------------+--------------------+--------------------+--------------------+-----------+---------------+---------------------+--------------------+--------------------+--------------------+--------------------+----------------------------+--------------------+-------------+------+\n",
            "|        Dénomination|      Raison Sociale|       Certification|         Responsable|           Activités|            Produits|       Adresse usine|Gouvernorat|     Délégation|Téléphone siège/usine|     Fax siège/usine|              E-mail|                 URL|              Régime|Pays du Participant Etranger|Entrée en production|Capital en DT|Emploi|\n",
            "+--------------------+--------------------+--------------------+--------------------+--------------------+--------------------+--------------------+-----------+---------------+---------------------+--------------------+--------------------+--------------------+--------------------+----------------------------+--------------------+-------------+------+\n",
            "|         3P (BEMBLA)|              STE 3P|            ISO-9001|     Hayder Mediouni|Savons, détergent...|Détergents solide...|Z.I. - 5036 - MEN...|   Monastir|         Bembla| (216) - 73 420 21...|  (216) - 73 420 149|3p.commercial@gma...|                null|Non totalement ex...|                        null|          02/07/2005|      139 500|    22|\n",
            "|                 7 M|             STE 7 M|          FSSC-22000|       Sami Ben Said|Laiteries, fromag...|Fromages à pâte m...|DISTRICT INDUSTRI...|     Sousse|        Enfidha| (216) - 20 578 14...|  (216) - 73 392 027|sami.abdennour@so...|                null|Totalement export...|           Libye - Allemagne|          20/05/2019|    1 500 000|    18|\n",
            "| A.A.F COMMUNICATION| A.A.F COMMUNICATION|            ISO-9001| Schweizer Reinhoold|Fils, câbles isol...| Faisceaux de câble.|RUE DE KAIROUAN -...|     Sousse|         Msaken| (216) - 36 204 60...|  (216) - 73 286 541|sami.mzali@aaf.co...|                null|Totalement export...|                   Allemagne|          30/05/2014|       10 000|   190|\n",
            "|    A.A.F PRODUCTION|    A.A.F PRODUCTION|ISO-14001 - ISO T...|          Sami Mzali|Fils, câbles isol...|    Câbles coaxiaux.|RUE KAIROUAN - 40...|     Sousse|         Msaken| (216) - 36 204 60...|  (216) - 73 323 510|sami.mzali@aaf.co...|                null|Totalement export...|                   Allemagne|          03/08/2011|       10 000|   230|\n",
            "|               A.M.F|               A.M.F|            ISO-9001|   Philippe Piganeau|Fils, câbles isol...| Faisceaux de câble.|LOT N°67, RUE SFA...|  Ben Arous|       Fouchana|   (216) - 70 016 820|  (216) - 79 408 958|naim.mbaya@s-indu...|                null|Totalement export...|                      France|          30/06/2016|      100 000|   135|\n",
            "|                A2FO|ABDELWAHAB FRIKHA...|            ISO-9001|   Abdelwahab Frikha|Outillage mécaniq...|Moules et modèles...|RTE DE TUNIS KM 1...|       Sfax|   Sakiet ezzit| (216) - 74 861 23...|  (216) - 74 860 633|       a2fo@a2fo.com| http://www.a2fo.com|Non totalement ex...|                        null|          02/01/1985|         null|    20|\n",
            "|                 AAW|      APPAREL @ WORK|            ISO-9002|   Faycal Ben Rayana|Fabrication de li...|Vêtements de sécu...|AVE IBN KHALDOUN ...|   Monastir|       Teboulba| (216) - 73 496 96...|  (216) - 73 496 977|faycalbr@apparela...|                null|Totalement export...|        Allemagne - Belgique|          30/11/2007|      668 850|   650|\n",
            "|                ABCO|AGRI BUSINESS COM...|ISO-9001 - OHSAS ...|  Ezzeddine Bellagha|Transformation, c...|Conserves de pois...|PORT DE PECHE - 8...|     Nabeul|    El haouaria| (216) - 71 454 83...|(216) - 71 454 83...|        abco@abco.tn|http://www.sidida...|Non totalement ex...|                        null|          07/12/2000|    7 500 000|   667|\n",
            "| ABH TEXTILE SERVICE| ABH TEXTILE SERVICE|            ISO-9001|        Atef Bennani|Confection de vêt...|Vêtements de trav...|RUE MOHAMED V - 4...|     Sousse|   Sidi bou ali|   (216) - 73 247 122|  (216) - 73 247 124|contact@abhtextil...|http://www.abhtex...|Totalement export...|                   Allemagne|          24/11/2009|    1 000 000|   170|\n",
            "|    ACAPLAST TUNISIE|STE ACAPLAST TUNISIE|            ISO-9001|         Tarek Aouji|Autres articles e...|Pièces techniques...|Z.I. SIDI ABDELHA...|     Sousse|Sidi Abdelhamid|   (216) - 73 321 894|  (216) - 73 321 896|tarak.aouji@acapl...|http://www.acapla...|Totalement export...|                      France|          03/05/2014|      346 000|   137|\n",
            "|            ACIA SUD|ATELIER DE CONSTR...|            ISO-9001|     Mustapha Maalej|Tréfilage à froid...|Fils d'acier tréf...|RTE DE MAHDIA KM ...|       Sfax| Sakiet eddaier| (216) - 74 831 67...|  (216) - 74 831 680|    acia.sud@gnet.tn|http://www.acia-s...|Non totalement ex...|                        null|          22/01/1982|    9 000 000|    62|\n",
            "|                 ACN|STE DES ALIMENTS ...|ISO-9001 - ISO-22000|   Abdelhamid Omrane|Aliments pour ani...|Aliments complets...|Z.I. BP 59 - 8020...|     Nabeul|        Soliman| (216) - 22 602 66...|  (216) - 72 390 040|mhamed.bacha@acn....|                null|Non totalement ex...|                        null|          11/02/2006|    8 200 000|   150|\n",
            "|     ACS (GROMBALIA)|             STE ACS|            ISO-9001|          Fredj Gara|Fils, câbles isol...| Faisceaux de câble.|RTE DE KALBIA, BP...|     Nabeul|      Grombalia|   (216) - 72 214 076|  (216) - 72 213 926|service.administr...|                null|Totalement export...|                      France|          26/12/2007|      180 000|   230|\n",
            "|                ACST|ASSEMBLAGE CONNEC...|ISO TS-16949 - IS...|      Pierre Baillif|Matériel de distr...|        Connecteurs.|Z.I. - 7080 - MEN...|    Bizerte|   Menzel jemil| (216) - 72 492 35...|  (216) - 72 492 433|direction@acstuni...|                null|Totalement export...|                      France|          23/11/2002|      100 000|    55|\n",
            "|       ACTIA TUNISIE|       ACTIA TUNISIE|ISO-9001 - ISO-14...|   Hassouna Fatnassi|Matériel de distr...|Autres instrument...|2, IMPASSE DES EN...|     Ariana|      La Soukra|   (216) - 71 941 933|  (216) - 71 942 245|amira.korbi@actia...| http://www.actia.fr|Totalement export...|                      France|          06/03/2009|    1 000 000|   107|\n",
            "|AD INDUSTRIE TUNISIE|AD INDUSTRIE TUNISIE|  EN-9100 - ISO-9001|       Lopinto Bruno| Mécanique générale.|Pièces mécaniques...|Z.I. - 2046 - SID...|      Tunis|       La marsa|   (216) - 71 854 597|  (216) - 71 854 595|bruno.lopinto@ad-...|                null|Totalement export...|                      France|          06/01/2011|       40 000|    46|\n",
            "|            ADHE-ELS|     STE ADHESIF ELS|NT.CE - ISO-9001 ...|      Bechir Gaaloul|Préparations phar...|Produits pharmace...|Z.I. RTE DE TUNIS...|     Sousse|   Kalaa kebira|   (216) - 73 342 600|  (216) - 73 342 550|contact@adhe-els....|                null|Non totalement ex...|              Suisse - Grece|          01/03/1996|      245 000|   371|\n",
            "|  AEROPROTAC TUNISIE|            AEROTECH|  ISO-9001 - EN-9100|Maure Mirande Ramain|Traitement et rev...|Autres traitement...|RUE JABER IBN HAY...|      Tunis|       La marsa| (216) - 70 690 60...|                null|r.hafidhi@aerotec...|                null|Totalement export...|                      France|          19/02/2007|    1 050 000|    21|\n",
            "|       AFC INDUSTRIE|       AFC INDUSTRIE|            ISO-9001|        Bruno Bourel|Fils, câbles isol...|Ventilateurs autr...|RUE DE SFAX, LOT ...|  Ben Arous|       Fouchana| (216) - 79 408 53...|  (216) - 79 408 542|b.bourel@afc-indu...|http://www.afcind...|Totalement export...|                      France|          11/06/2010|      100 000|    29|\n",
            "|           AFREN E+P|STE AFRICAINE DES...|            ISO-9001|  Bechir Ben Sedrine|Peintures, vernis...|Encres d'imprimerie.|6, RUE DU CONGO -...|      Tunis|    Jbel jeloud|   (216) - 71 497 555|  (216) - 71 496 564|     afren@planet.tn|                null|Non totalement ex...|                        null|          01/11/1960|      418 750|    15|\n",
            "+--------------------+--------------------+--------------------+--------------------+--------------------+--------------------+--------------------+-----------+---------------+---------------------+--------------------+--------------------+--------------------+--------------------+----------------------------+--------------------+-------------+------+\n",
            "only showing top 20 rows\n",
            "\n"
          ]
        }
      ]
    },
    {
      "cell_type": "code",
      "source": [
        "# Get the maximum column count\n",
        "max_columns = max(len(df.columns),len(df1.columns))"
      ],
      "metadata": {
        "id": "8zI4acdPSBn0"
      },
      "execution_count": null,
      "outputs": []
    },
    {
      "cell_type": "code",
      "source": [
        "print(max_columns)"
      ],
      "metadata": {
        "colab": {
          "base_uri": "https://localhost:8080/"
        },
        "id": "lslr0oJrTzUe",
        "outputId": "e3b452b5-54db-467f-d7a9-75c51a4f2956"
      },
      "execution_count": null,
      "outputs": [
        {
          "output_type": "stream",
          "name": "stdout",
          "text": [
            "19\n"
          ]
        }
      ]
    },
    {
      "cell_type": "code",
      "source": [
        "from pyspark.sql.functions import lit\n",
        "\n",
        "# Add null columns to match the maximum column count\n",
        "for i in range(len(df.columns), max_columns):\n",
        "    df= df.withColumn(f'column_{i}', lit(None))\n",
        "\n",
        "for i in range(len(df1.columns), max_columns):\n",
        "    df1 = df1.withColumn(f'column_{i}', lit(None))"
      ],
      "metadata": {
        "id": "QAzzFLIEUB7l"
      },
      "execution_count": null,
      "outputs": []
    },
    {
      "cell_type": "code",
      "source": [
        "df.show()\n",
        "print(df.count())\n",
        "df1.show()\n",
        "print(df1.count())"
      ],
      "metadata": {
        "colab": {
          "base_uri": "https://localhost:8080/"
        },
        "id": "OPsprMUhUQwX",
        "outputId": "2317495a-5c21-4acf-bd00-441935fdcd2a"
      },
      "execution_count": null,
      "outputs": [
        {
          "output_type": "stream",
          "name": "stdout",
          "text": [
            "+---+--------------------+--------------------+--------------------+--------------------+--------------------+--------------------+-----------+---------------------+-------------------+--------------------+---+--------------------+----------------------------+--------------------+-------------+------+----+---------+\n",
            "|_c0|        Dénomination|      Raison Sociale|         Responsable|           Activités|            Produits|             Adresse|Gouvernorat|Téléphone siège/usine|    Fax siège/usine|              E-mail|URL|              Régime|Pays du Participant Etranger|Entrée en production|Capital en DT|Emploi|_c17|column_18|\n",
            "+---+--------------------+--------------------+--------------------+--------------------+--------------------+--------------------+-----------+---------------------+-------------------+--------------------+---+--------------------+----------------------------+--------------------+-------------+------+----+---------+\n",
            "|  0|              3 S.B |              3 S.B |Besma Jendoubi Ze...|Instal., entretie...|Instal., entretie...|IMM. SOUAD, RUE M...|     Gafsa |  (216) - 20 050 000 |                   |                    |   |Non totalement ex...|                            |         01/12/2012 |         null|     5|null|     null|\n",
            "|  2|    3E TECHNOLOGIES |EAU, ENERGIES ET ...|      Nejib Chehibi |Instal., entretie...|Instal., entretie...|2, AVE DE FRANCE,...|     Tunis |  (216) - 71 320 619 |(216) - 71 321 290 |                    |   |Non totalement ex...|                            |         09/10/2009 |         null|    15|null|     null|\n",
            "|  3|                 3R |RENOVATION, RECON...|    Lejri Med Salah |Instal., entretie...|Instal., entretie...|CITE EZZOUHOUR - ...|     Gafsa |  (216) - 26 649 448 |(216) - 76 240 455 |                    |   |Non totalement ex...|                            |         05/05/2010 |         null|    22|null|     null|\n",
            "|  4|      AFIF TRABELSI |      AFIF TRABELSI |      Afif Trabelsi |Instal., entretie...|Instal., entretie...|CITE ESSOUED - 31...|  Kairouan |  (216) - 95 006 406 |                   |                    |   |Non totalement ex...|                            |         04/04/1993 |         null|     2|null|     null|\n",
            "|  5|           AFRITECH |       STE AFRITECH |      Amine Dagdoug |Instal., entretie...|Instal., entretie...|IMM. RAYHANA, BUR...|      Sfax |  (216) - 25 244 495 |                   |                    |   |Non totalement ex...|                            |         01/09/2012 |         null|     2|null|     null|\n",
            "|  6|         ALI JARRAY |         ALI JARRAY |         Ali Jarray |Installation, ent...|Installation, ent...|RUE ALI IBN ABI T...|  Kairouan |  (216) - 22 769 579 |                   |                    |   |Non totalement ex...|                            |         10/03/2002 |         null|     2|null|     null|\n",
            "|  7|ALL INDUSTRIAL SE...|ALL INDUSTRIAL SE...|       Rekik Ouadie |Instal., entretie...|Instal., entretie...|RUE ABOU EL HASSE...|      Sfax |  (216) - 25 806 800 |(216) - 74 415 191 |ouadierekik@hotma...|   |Non totalement ex...|                            |         10/07/2010 |         null|     4|null|     null|\n",
            "|  8|                APS |                APS |      Wissem Kraiem |Instal., entretie...|Instal., entretie...|RTE MENZEL CHAKER...|      Sfax |  (216) - 74 218 023 |(216) - 74 298 100 |                    |   |Non totalement ex...|                            |         01/02/2012 |         null|     3|null|     null|\n",
            "|  9|           AQUA JET |       STE AQUA JET |   Nabil Ben Othman |Instal., entretie...|Instal., entretie...|RUE HALIMA, HOUME...|    Mahdia |  (216) - 28 689 586 |                   |                    |   |Non totalement ex...|                            |         15/12/2014 |         null|     1|null|     null|\n",
            "| 10|            AQUANET |        STE AQUANET |       Kamel Doghri |Instal., entretie...|Instal., entretie...|68, RUE FARHAT HA...|     Tunis |  (216) - 71 331 127 |(216) - 71 331 129 |tarek.jemaa@aquan...|   |Non totalement ex...|                     France |         16/09/2009 |         null|    10|null|     null|\n",
            "| 11|ATD ELECTRONIC SE...|ATD ELECTRONIC SE...|Mohamed Sofiane E...|Instal., entretie...|Instal., entretie...|51, AVENUE DE CAR...|     Tunis |  (216) - 71 778 648 |(216) - 71 778 687 |info@atdelectroni...|   |Totalement export...|                            |         18/10/2013 |         null|    11|null|     null|\n",
            "| 12|ATELIER DU PORT P...|STE ATELIER DU PO...|    Mourad Baazouzi |Instal., entretie...|Instal., entretie...|Z.I. MUNICIPALE D...| Ben Arous |  (216) - 71 444 055 |(216) - 71 446 977 |                    |   |Totalement export...|                            |         30/06/2015 |         null|    52|null|     null|\n",
            "| 13|ATELIER DU PORT P...|ATELIER DU PORT P...|   Mourad Bouazouzi |Instal., entretie...|Instal., entretie...|Z.I. MUNICIPALE D...| Ben Arous |  (216) - 71 447 633 |(216) - 71 446 977 |                    |   |Totalement export...|                            |         30/06/2015 |         null|    62|null|     null|\n",
            "| 14|          ATTAKA PV |      STE ATTAKA PV |   Ben Jemaa Mourad |Instal., entretie...|Instal., entretie...|ROUTE ELHSAY GHLI...|    Kébili |  (216) - 22 487 237 |                   |                    |   |Non totalement ex...|                            |         15/10/2016 |         null|     5|null|     null|\n",
            "| 15|       AYADI HICHEM |       AYADI HICHEM |       Ayadi Hichem |Instal., entretie...|Instal., entretie...|RTE DE GREMDA KM ...|      Sfax |  (216) - 99 233 949 |                   |                    |   |Non totalement ex...|                            |         30/06/2009 |         null|     3|null|     null|\n",
            "| 16|BAHRIA-SCHUCH MAI...|BAHRIA-SCHUCH MAI...|    Belgacem Farhat |Instal., entretie...|Instal., entretie...|RTE DE MONASTIR, ...|    Sousse |  (216) - 36 402 231 |(216) - 73 322 778 |bahria_schuch@top...|   |Non totalement ex...|                  Allemagne |         01/02/2009 |         null|    17|null|     null|\n",
            "| 17| BAYOUDH SLAHEDDINE | BAYOUDH SLAHEDDINE | Bayoudh Slaheddine |Installation, mon...|Installation, mon...|PEPINIERE DES ENT...|    Mahdia |                     |                   |                    |   |Non totalement ex...|                            |         09/09/2014 |         null|     3|null|     null|\n",
            "| 18|     BELHADJ WISSEM |     BELHADJ WISSEM |Belhadj Wissem Be...|Installation, ent...|Installation, ent...|AVE 2 MARS 1934 -...|    Mahdia |  (216) - 97 118 310 |                   |                    |   |Non totalement ex...|                            |         01/12/2010 |         null|     2|null|     null|\n",
            "| 19|BEN ABDERRAHIM ZIED |STE BEN ABDERRAHI...|Ben Abderrahim Zied |Instal., entretie...|Instal., entretie...|CITE ABEDLA- DOUZ...|    Kébili |  (216) - 21 070 160 |                   |                    |   |Non totalement ex...|                            |         15/02/2017 |         null|     3|null|     null|\n",
            "| 20|     BEN HAMDA OMAR |     BEN HAMDA OMAR |     Ben Hamda Omar |Instal., entretie...|Instal., entretie...|RTE DE TUNIS KM 1...|      Sfax |  (216) - 96 639 760 |                   |                    |   |Non totalement ex...|                            |         10/08/2010 |         null|     5|null|     null|\n",
            "+---+--------------------+--------------------+--------------------+--------------------+--------------------+--------------------+-----------+---------------------+-------------------+--------------------+---+--------------------+----------------------------+--------------------+-------------+------+----+---------+\n",
            "only showing top 20 rows\n",
            "\n",
            "1760\n",
            "+---+--------------------+--------------------+--------------------+--------------------+--------------------+--------------------+--------------------+-----------+---------------+---------------------+--------------------+--------------------+--------------------+--------------------+----------------------------+--------------------+-------------+------+\n",
            "|_c0|        Dénomination|      Raison Sociale|       Certification|         Responsable|           Activités|            Produits|       Adresse usine|Gouvernorat|     Délégation|Téléphone siège/usine|     Fax siège/usine|              E-mail|                 URL|              Régime|Pays du Participant Etranger|Entrée en production|Capital en DT|Emploi|\n",
            "+---+--------------------+--------------------+--------------------+--------------------+--------------------+--------------------+--------------------+-----------+---------------+---------------------+--------------------+--------------------+--------------------+--------------------+----------------------------+--------------------+-------------+------+\n",
            "|  0|         3P (BEMBLA)|              STE 3P|            ISO-9001|     Hayder Mediouni|Savons, détergent...|Détergents solide...|Z.I. - 5036 - MEN...|   Monastir|         Bembla| (216) - 73 420 21...|  (216) - 73 420 149|3p.commercial@gma...|                null|Non totalement ex...|                        null|          02/07/2005|      139 500|    22|\n",
            "|  2|                 7 M|             STE 7 M|          FSSC-22000|       Sami Ben Said|Laiteries, fromag...|Fromages à pâte m...|DISTRICT INDUSTRI...|     Sousse|        Enfidha| (216) - 20 578 14...|  (216) - 73 392 027|sami.abdennour@so...|                null|Totalement export...|           Libye - Allemagne|          20/05/2019|    1 500 000|    18|\n",
            "|  3| A.A.F COMMUNICATION| A.A.F COMMUNICATION|            ISO-9001| Schweizer Reinhoold|Fils, câbles isol...| Faisceaux de câble.|RUE DE KAIROUAN -...|     Sousse|         Msaken| (216) - 36 204 60...|  (216) - 73 286 541|sami.mzali@aaf.co...|                null|Totalement export...|                   Allemagne|          30/05/2014|       10 000|   190|\n",
            "|  4|    A.A.F PRODUCTION|    A.A.F PRODUCTION|ISO-14001 - ISO T...|          Sami Mzali|Fils, câbles isol...|    Câbles coaxiaux.|RUE KAIROUAN - 40...|     Sousse|         Msaken| (216) - 36 204 60...|  (216) - 73 323 510|sami.mzali@aaf.co...|                null|Totalement export...|                   Allemagne|          03/08/2011|       10 000|   230|\n",
            "|  5|               A.M.F|               A.M.F|            ISO-9001|   Philippe Piganeau|Fils, câbles isol...| Faisceaux de câble.|LOT N°67, RUE SFA...|  Ben Arous|       Fouchana|   (216) - 70 016 820|  (216) - 79 408 958|naim.mbaya@s-indu...|                null|Totalement export...|                      France|          30/06/2016|      100 000|   135|\n",
            "|  6|                A2FO|ABDELWAHAB FRIKHA...|            ISO-9001|   Abdelwahab Frikha|Outillage mécaniq...|Moules et modèles...|RTE DE TUNIS KM 1...|       Sfax|   Sakiet ezzit| (216) - 74 861 23...|  (216) - 74 860 633|       a2fo@a2fo.com| http://www.a2fo.com|Non totalement ex...|                        null|          02/01/1985|         null|    20|\n",
            "|  7|                 AAW|      APPAREL @ WORK|            ISO-9002|   Faycal Ben Rayana|Fabrication de li...|Vêtements de sécu...|AVE IBN KHALDOUN ...|   Monastir|       Teboulba| (216) - 73 496 96...|  (216) - 73 496 977|faycalbr@apparela...|                null|Totalement export...|        Allemagne - Belgique|          30/11/2007|      668 850|   650|\n",
            "|  8|                ABCO|AGRI BUSINESS COM...|ISO-9001 - OHSAS ...|  Ezzeddine Bellagha|Transformation, c...|Conserves de pois...|PORT DE PECHE - 8...|     Nabeul|    El haouaria| (216) - 71 454 83...|(216) - 71 454 83...|        abco@abco.tn|http://www.sidida...|Non totalement ex...|                        null|          07/12/2000|    7 500 000|   667|\n",
            "|  9| ABH TEXTILE SERVICE| ABH TEXTILE SERVICE|            ISO-9001|        Atef Bennani|Confection de vêt...|Vêtements de trav...|RUE MOHAMED V - 4...|     Sousse|   Sidi bou ali|   (216) - 73 247 122|  (216) - 73 247 124|contact@abhtextil...|http://www.abhtex...|Totalement export...|                   Allemagne|          24/11/2009|    1 000 000|   170|\n",
            "| 10|    ACAPLAST TUNISIE|STE ACAPLAST TUNISIE|            ISO-9001|         Tarek Aouji|Autres articles e...|Pièces techniques...|Z.I. SIDI ABDELHA...|     Sousse|Sidi Abdelhamid|   (216) - 73 321 894|  (216) - 73 321 896|tarak.aouji@acapl...|http://www.acapla...|Totalement export...|                      France|          03/05/2014|      346 000|   137|\n",
            "| 11|            ACIA SUD|ATELIER DE CONSTR...|            ISO-9001|     Mustapha Maalej|Tréfilage à froid...|Fils d'acier tréf...|RTE DE MAHDIA KM ...|       Sfax| Sakiet eddaier| (216) - 74 831 67...|  (216) - 74 831 680|    acia.sud@gnet.tn|http://www.acia-s...|Non totalement ex...|                        null|          22/01/1982|    9 000 000|    62|\n",
            "| 12|                 ACN|STE DES ALIMENTS ...|ISO-9001 - ISO-22000|   Abdelhamid Omrane|Aliments pour ani...|Aliments complets...|Z.I. BP 59 - 8020...|     Nabeul|        Soliman| (216) - 22 602 66...|  (216) - 72 390 040|mhamed.bacha@acn....|                null|Non totalement ex...|                        null|          11/02/2006|    8 200 000|   150|\n",
            "| 13|     ACS (GROMBALIA)|             STE ACS|            ISO-9001|          Fredj Gara|Fils, câbles isol...| Faisceaux de câble.|RTE DE KALBIA, BP...|     Nabeul|      Grombalia|   (216) - 72 214 076|  (216) - 72 213 926|service.administr...|                null|Totalement export...|                      France|          26/12/2007|      180 000|   230|\n",
            "| 14|                ACST|ASSEMBLAGE CONNEC...|ISO TS-16949 - IS...|      Pierre Baillif|Matériel de distr...|        Connecteurs.|Z.I. - 7080 - MEN...|    Bizerte|   Menzel jemil| (216) - 72 492 35...|  (216) - 72 492 433|direction@acstuni...|                null|Totalement export...|                      France|          23/11/2002|      100 000|    55|\n",
            "| 15|       ACTIA TUNISIE|       ACTIA TUNISIE|ISO-9001 - ISO-14...|   Hassouna Fatnassi|Matériel de distr...|Autres instrument...|2, IMPASSE DES EN...|     Ariana|      La Soukra|   (216) - 71 941 933|  (216) - 71 942 245|amira.korbi@actia...| http://www.actia.fr|Totalement export...|                      France|          06/03/2009|    1 000 000|   107|\n",
            "| 16|AD INDUSTRIE TUNISIE|AD INDUSTRIE TUNISIE|  EN-9100 - ISO-9001|       Lopinto Bruno| Mécanique générale.|Pièces mécaniques...|Z.I. - 2046 - SID...|      Tunis|       La marsa|   (216) - 71 854 597|  (216) - 71 854 595|bruno.lopinto@ad-...|                null|Totalement export...|                      France|          06/01/2011|       40 000|    46|\n",
            "| 17|            ADHE-ELS|     STE ADHESIF ELS|NT.CE - ISO-9001 ...|      Bechir Gaaloul|Préparations phar...|Produits pharmace...|Z.I. RTE DE TUNIS...|     Sousse|   Kalaa kebira|   (216) - 73 342 600|  (216) - 73 342 550|contact@adhe-els....|                null|Non totalement ex...|              Suisse - Grece|          01/03/1996|      245 000|   371|\n",
            "| 18|  AEROPROTAC TUNISIE|            AEROTECH|  ISO-9001 - EN-9100|Maure Mirande Ramain|Traitement et rev...|Autres traitement...|RUE JABER IBN HAY...|      Tunis|       La marsa| (216) - 70 690 60...|                null|r.hafidhi@aerotec...|                null|Totalement export...|                      France|          19/02/2007|    1 050 000|    21|\n",
            "| 19|       AFC INDUSTRIE|       AFC INDUSTRIE|            ISO-9001|        Bruno Bourel|Fils, câbles isol...|Ventilateurs autr...|RUE DE SFAX, LOT ...|  Ben Arous|       Fouchana| (216) - 79 408 53...|  (216) - 79 408 542|b.bourel@afc-indu...|http://www.afcind...|Totalement export...|                      France|          11/06/2010|      100 000|    29|\n",
            "| 20|           AFREN E+P|STE AFRICAINE DES...|            ISO-9001|  Bechir Ben Sedrine|Peintures, vernis...|Encres d'imprimerie.|6, RUE DU CONGO -...|      Tunis|    Jbel jeloud|   (216) - 71 497 555|  (216) - 71 496 564|     afren@planet.tn|                null|Non totalement ex...|                        null|          01/11/1960|      418 750|    15|\n",
            "+---+--------------------+--------------------+--------------------+--------------------+--------------------+--------------------+--------------------+-----------+---------------+---------------------+--------------------+--------------------+--------------------+--------------------+----------------------------+--------------------+-------------+------+\n",
            "only showing top 20 rows\n",
            "\n",
            "1049\n"
          ]
        }
      ]
    },
    {
      "cell_type": "code",
      "source": [
        "# Union the DataFrames\n",
        "combined_df = df.union(df1)"
      ],
      "metadata": {
        "id": "v-FMgUd0Un7A"
      },
      "execution_count": null,
      "outputs": []
    },
    {
      "cell_type": "code",
      "source": [
        "combined_df.show()\n",
        "print(combined_df.count())"
      ],
      "metadata": {
        "colab": {
          "base_uri": "https://localhost:8080/"
        },
        "id": "hmRvM20PUtwj",
        "outputId": "befd4bb6-7217-44b5-c7d8-58e5bf656149"
      },
      "execution_count": null,
      "outputs": [
        {
          "output_type": "stream",
          "name": "stdout",
          "text": [
            "+---+--------------------+--------------------+--------------------+--------------------+--------------------+--------------------+-----------+---------------------+-------------------+--------------------+---+--------------------+----------------------------+--------------------+-------------+------+----+---------+\n",
            "|_c0|        Dénomination|      Raison Sociale|         Responsable|           Activités|            Produits|             Adresse|Gouvernorat|Téléphone siège/usine|    Fax siège/usine|              E-mail|URL|              Régime|Pays du Participant Etranger|Entrée en production|Capital en DT|Emploi|_c17|column_18|\n",
            "+---+--------------------+--------------------+--------------------+--------------------+--------------------+--------------------+-----------+---------------------+-------------------+--------------------+---+--------------------+----------------------------+--------------------+-------------+------+----+---------+\n",
            "|  0|              3 S.B |              3 S.B |Besma Jendoubi Ze...|Instal., entretie...|Instal., entretie...|IMM. SOUAD, RUE M...|     Gafsa |  (216) - 20 050 000 |                   |                    |   |Non totalement ex...|                            |         01/12/2012 |         null|     5|null|     null|\n",
            "|  2|    3E TECHNOLOGIES |EAU, ENERGIES ET ...|      Nejib Chehibi |Instal., entretie...|Instal., entretie...|2, AVE DE FRANCE,...|     Tunis |  (216) - 71 320 619 |(216) - 71 321 290 |                    |   |Non totalement ex...|                            |         09/10/2009 |         null|    15|null|     null|\n",
            "|  3|                 3R |RENOVATION, RECON...|    Lejri Med Salah |Instal., entretie...|Instal., entretie...|CITE EZZOUHOUR - ...|     Gafsa |  (216) - 26 649 448 |(216) - 76 240 455 |                    |   |Non totalement ex...|                            |         05/05/2010 |         null|    22|null|     null|\n",
            "|  4|      AFIF TRABELSI |      AFIF TRABELSI |      Afif Trabelsi |Instal., entretie...|Instal., entretie...|CITE ESSOUED - 31...|  Kairouan |  (216) - 95 006 406 |                   |                    |   |Non totalement ex...|                            |         04/04/1993 |         null|     2|null|     null|\n",
            "|  5|           AFRITECH |       STE AFRITECH |      Amine Dagdoug |Instal., entretie...|Instal., entretie...|IMM. RAYHANA, BUR...|      Sfax |  (216) - 25 244 495 |                   |                    |   |Non totalement ex...|                            |         01/09/2012 |         null|     2|null|     null|\n",
            "|  6|         ALI JARRAY |         ALI JARRAY |         Ali Jarray |Installation, ent...|Installation, ent...|RUE ALI IBN ABI T...|  Kairouan |  (216) - 22 769 579 |                   |                    |   |Non totalement ex...|                            |         10/03/2002 |         null|     2|null|     null|\n",
            "|  7|ALL INDUSTRIAL SE...|ALL INDUSTRIAL SE...|       Rekik Ouadie |Instal., entretie...|Instal., entretie...|RUE ABOU EL HASSE...|      Sfax |  (216) - 25 806 800 |(216) - 74 415 191 |ouadierekik@hotma...|   |Non totalement ex...|                            |         10/07/2010 |         null|     4|null|     null|\n",
            "|  8|                APS |                APS |      Wissem Kraiem |Instal., entretie...|Instal., entretie...|RTE MENZEL CHAKER...|      Sfax |  (216) - 74 218 023 |(216) - 74 298 100 |                    |   |Non totalement ex...|                            |         01/02/2012 |         null|     3|null|     null|\n",
            "|  9|           AQUA JET |       STE AQUA JET |   Nabil Ben Othman |Instal., entretie...|Instal., entretie...|RUE HALIMA, HOUME...|    Mahdia |  (216) - 28 689 586 |                   |                    |   |Non totalement ex...|                            |         15/12/2014 |         null|     1|null|     null|\n",
            "| 10|            AQUANET |        STE AQUANET |       Kamel Doghri |Instal., entretie...|Instal., entretie...|68, RUE FARHAT HA...|     Tunis |  (216) - 71 331 127 |(216) - 71 331 129 |tarek.jemaa@aquan...|   |Non totalement ex...|                     France |         16/09/2009 |         null|    10|null|     null|\n",
            "| 11|ATD ELECTRONIC SE...|ATD ELECTRONIC SE...|Mohamed Sofiane E...|Instal., entretie...|Instal., entretie...|51, AVENUE DE CAR...|     Tunis |  (216) - 71 778 648 |(216) - 71 778 687 |info@atdelectroni...|   |Totalement export...|                            |         18/10/2013 |         null|    11|null|     null|\n",
            "| 12|ATELIER DU PORT P...|STE ATELIER DU PO...|    Mourad Baazouzi |Instal., entretie...|Instal., entretie...|Z.I. MUNICIPALE D...| Ben Arous |  (216) - 71 444 055 |(216) - 71 446 977 |                    |   |Totalement export...|                            |         30/06/2015 |         null|    52|null|     null|\n",
            "| 13|ATELIER DU PORT P...|ATELIER DU PORT P...|   Mourad Bouazouzi |Instal., entretie...|Instal., entretie...|Z.I. MUNICIPALE D...| Ben Arous |  (216) - 71 447 633 |(216) - 71 446 977 |                    |   |Totalement export...|                            |         30/06/2015 |         null|    62|null|     null|\n",
            "| 14|          ATTAKA PV |      STE ATTAKA PV |   Ben Jemaa Mourad |Instal., entretie...|Instal., entretie...|ROUTE ELHSAY GHLI...|    Kébili |  (216) - 22 487 237 |                   |                    |   |Non totalement ex...|                            |         15/10/2016 |         null|     5|null|     null|\n",
            "| 15|       AYADI HICHEM |       AYADI HICHEM |       Ayadi Hichem |Instal., entretie...|Instal., entretie...|RTE DE GREMDA KM ...|      Sfax |  (216) - 99 233 949 |                   |                    |   |Non totalement ex...|                            |         30/06/2009 |         null|     3|null|     null|\n",
            "| 16|BAHRIA-SCHUCH MAI...|BAHRIA-SCHUCH MAI...|    Belgacem Farhat |Instal., entretie...|Instal., entretie...|RTE DE MONASTIR, ...|    Sousse |  (216) - 36 402 231 |(216) - 73 322 778 |bahria_schuch@top...|   |Non totalement ex...|                  Allemagne |         01/02/2009 |         null|    17|null|     null|\n",
            "| 17| BAYOUDH SLAHEDDINE | BAYOUDH SLAHEDDINE | Bayoudh Slaheddine |Installation, mon...|Installation, mon...|PEPINIERE DES ENT...|    Mahdia |                     |                   |                    |   |Non totalement ex...|                            |         09/09/2014 |         null|     3|null|     null|\n",
            "| 18|     BELHADJ WISSEM |     BELHADJ WISSEM |Belhadj Wissem Be...|Installation, ent...|Installation, ent...|AVE 2 MARS 1934 -...|    Mahdia |  (216) - 97 118 310 |                   |                    |   |Non totalement ex...|                            |         01/12/2010 |         null|     2|null|     null|\n",
            "| 19|BEN ABDERRAHIM ZIED |STE BEN ABDERRAHI...|Ben Abderrahim Zied |Instal., entretie...|Instal., entretie...|CITE ABEDLA- DOUZ...|    Kébili |  (216) - 21 070 160 |                   |                    |   |Non totalement ex...|                            |         15/02/2017 |         null|     3|null|     null|\n",
            "| 20|     BEN HAMDA OMAR |     BEN HAMDA OMAR |     Ben Hamda Omar |Instal., entretie...|Instal., entretie...|RTE DE TUNIS KM 1...|      Sfax |  (216) - 96 639 760 |                   |                    |   |Non totalement ex...|                            |         10/08/2010 |         null|     5|null|     null|\n",
            "+---+--------------------+--------------------+--------------------+--------------------+--------------------+--------------------+-----------+---------------------+-------------------+--------------------+---+--------------------+----------------------------+--------------------+-------------+------+----+---------+\n",
            "only showing top 20 rows\n",
            "\n",
            "2809\n"
          ]
        }
      ]
    },
    {
      "cell_type": "code",
      "source": [
        "combined_df_dropped = combined_df.drop('_c0')\n",
        "combined_df_dropped.show()\n",
        "# Get the column names as a list\n",
        "header_list = combined_df_dropped.columns\n",
        "# Print the header list\n"
      ],
      "metadata": {
        "colab": {
          "base_uri": "https://localhost:8080/"
        },
        "id": "bcYuZbKUVkyN",
        "outputId": "24760d65-4820-4a38-9b42-bc6b770b4a5e"
      },
      "execution_count": null,
      "outputs": [
        {
          "output_type": "stream",
          "name": "stdout",
          "text": [
            "+--------------------+--------------------+--------------------+--------------------+--------------------+--------------------+-----------+---------------------+-------------------+--------------------+---+--------------------+----------------------------+--------------------+-------------+------+----+---------+\n",
            "|        Dénomination|      Raison Sociale|         Responsable|           Activités|            Produits|             Adresse|Gouvernorat|Téléphone siège/usine|    Fax siège/usine|              E-mail|URL|              Régime|Pays du Participant Etranger|Entrée en production|Capital en DT|Emploi|_c17|column_18|\n",
            "+--------------------+--------------------+--------------------+--------------------+--------------------+--------------------+-----------+---------------------+-------------------+--------------------+---+--------------------+----------------------------+--------------------+-------------+------+----+---------+\n",
            "|              3 S.B |              3 S.B |Besma Jendoubi Ze...|Instal., entretie...|Instal., entretie...|IMM. SOUAD, RUE M...|     Gafsa |  (216) - 20 050 000 |                   |                    |   |Non totalement ex...|                            |         01/12/2012 |         null|     5|null|     null|\n",
            "|    3E TECHNOLOGIES |EAU, ENERGIES ET ...|      Nejib Chehibi |Instal., entretie...|Instal., entretie...|2, AVE DE FRANCE,...|     Tunis |  (216) - 71 320 619 |(216) - 71 321 290 |                    |   |Non totalement ex...|                            |         09/10/2009 |         null|    15|null|     null|\n",
            "|                 3R |RENOVATION, RECON...|    Lejri Med Salah |Instal., entretie...|Instal., entretie...|CITE EZZOUHOUR - ...|     Gafsa |  (216) - 26 649 448 |(216) - 76 240 455 |                    |   |Non totalement ex...|                            |         05/05/2010 |         null|    22|null|     null|\n",
            "|      AFIF TRABELSI |      AFIF TRABELSI |      Afif Trabelsi |Instal., entretie...|Instal., entretie...|CITE ESSOUED - 31...|  Kairouan |  (216) - 95 006 406 |                   |                    |   |Non totalement ex...|                            |         04/04/1993 |         null|     2|null|     null|\n",
            "|           AFRITECH |       STE AFRITECH |      Amine Dagdoug |Instal., entretie...|Instal., entretie...|IMM. RAYHANA, BUR...|      Sfax |  (216) - 25 244 495 |                   |                    |   |Non totalement ex...|                            |         01/09/2012 |         null|     2|null|     null|\n",
            "|         ALI JARRAY |         ALI JARRAY |         Ali Jarray |Installation, ent...|Installation, ent...|RUE ALI IBN ABI T...|  Kairouan |  (216) - 22 769 579 |                   |                    |   |Non totalement ex...|                            |         10/03/2002 |         null|     2|null|     null|\n",
            "|ALL INDUSTRIAL SE...|ALL INDUSTRIAL SE...|       Rekik Ouadie |Instal., entretie...|Instal., entretie...|RUE ABOU EL HASSE...|      Sfax |  (216) - 25 806 800 |(216) - 74 415 191 |ouadierekik@hotma...|   |Non totalement ex...|                            |         10/07/2010 |         null|     4|null|     null|\n",
            "|                APS |                APS |      Wissem Kraiem |Instal., entretie...|Instal., entretie...|RTE MENZEL CHAKER...|      Sfax |  (216) - 74 218 023 |(216) - 74 298 100 |                    |   |Non totalement ex...|                            |         01/02/2012 |         null|     3|null|     null|\n",
            "|           AQUA JET |       STE AQUA JET |   Nabil Ben Othman |Instal., entretie...|Instal., entretie...|RUE HALIMA, HOUME...|    Mahdia |  (216) - 28 689 586 |                   |                    |   |Non totalement ex...|                            |         15/12/2014 |         null|     1|null|     null|\n",
            "|            AQUANET |        STE AQUANET |       Kamel Doghri |Instal., entretie...|Instal., entretie...|68, RUE FARHAT HA...|     Tunis |  (216) - 71 331 127 |(216) - 71 331 129 |tarek.jemaa@aquan...|   |Non totalement ex...|                     France |         16/09/2009 |         null|    10|null|     null|\n",
            "|ATD ELECTRONIC SE...|ATD ELECTRONIC SE...|Mohamed Sofiane E...|Instal., entretie...|Instal., entretie...|51, AVENUE DE CAR...|     Tunis |  (216) - 71 778 648 |(216) - 71 778 687 |info@atdelectroni...|   |Totalement export...|                            |         18/10/2013 |         null|    11|null|     null|\n",
            "|ATELIER DU PORT P...|STE ATELIER DU PO...|    Mourad Baazouzi |Instal., entretie...|Instal., entretie...|Z.I. MUNICIPALE D...| Ben Arous |  (216) - 71 444 055 |(216) - 71 446 977 |                    |   |Totalement export...|                            |         30/06/2015 |         null|    52|null|     null|\n",
            "|ATELIER DU PORT P...|ATELIER DU PORT P...|   Mourad Bouazouzi |Instal., entretie...|Instal., entretie...|Z.I. MUNICIPALE D...| Ben Arous |  (216) - 71 447 633 |(216) - 71 446 977 |                    |   |Totalement export...|                            |         30/06/2015 |         null|    62|null|     null|\n",
            "|          ATTAKA PV |      STE ATTAKA PV |   Ben Jemaa Mourad |Instal., entretie...|Instal., entretie...|ROUTE ELHSAY GHLI...|    Kébili |  (216) - 22 487 237 |                   |                    |   |Non totalement ex...|                            |         15/10/2016 |         null|     5|null|     null|\n",
            "|       AYADI HICHEM |       AYADI HICHEM |       Ayadi Hichem |Instal., entretie...|Instal., entretie...|RTE DE GREMDA KM ...|      Sfax |  (216) - 99 233 949 |                   |                    |   |Non totalement ex...|                            |         30/06/2009 |         null|     3|null|     null|\n",
            "|BAHRIA-SCHUCH MAI...|BAHRIA-SCHUCH MAI...|    Belgacem Farhat |Instal., entretie...|Instal., entretie...|RTE DE MONASTIR, ...|    Sousse |  (216) - 36 402 231 |(216) - 73 322 778 |bahria_schuch@top...|   |Non totalement ex...|                  Allemagne |         01/02/2009 |         null|    17|null|     null|\n",
            "| BAYOUDH SLAHEDDINE | BAYOUDH SLAHEDDINE | Bayoudh Slaheddine |Installation, mon...|Installation, mon...|PEPINIERE DES ENT...|    Mahdia |                     |                   |                    |   |Non totalement ex...|                            |         09/09/2014 |         null|     3|null|     null|\n",
            "|     BELHADJ WISSEM |     BELHADJ WISSEM |Belhadj Wissem Be...|Installation, ent...|Installation, ent...|AVE 2 MARS 1934 -...|    Mahdia |  (216) - 97 118 310 |                   |                    |   |Non totalement ex...|                            |         01/12/2010 |         null|     2|null|     null|\n",
            "|BEN ABDERRAHIM ZIED |STE BEN ABDERRAHI...|Ben Abderrahim Zied |Instal., entretie...|Instal., entretie...|CITE ABEDLA- DOUZ...|    Kébili |  (216) - 21 070 160 |                   |                    |   |Non totalement ex...|                            |         15/02/2017 |         null|     3|null|     null|\n",
            "|     BEN HAMDA OMAR |     BEN HAMDA OMAR |     Ben Hamda Omar |Instal., entretie...|Instal., entretie...|RTE DE TUNIS KM 1...|      Sfax |  (216) - 96 639 760 |                   |                    |   |Non totalement ex...|                            |         10/08/2010 |         null|     5|null|     null|\n",
            "+--------------------+--------------------+--------------------+--------------------+--------------------+--------------------+-----------+---------------------+-------------------+--------------------+---+--------------------+----------------------------+--------------------+-------------+------+----+---------+\n",
            "only showing top 20 rows\n",
            "\n"
          ]
        }
      ]
    },
    {
      "cell_type": "code",
      "source": [
        "# Get the column names as a list\n",
        "header_list = combined_df_dropped.columns\n",
        "\n",
        "# Print the header list\n",
        "print(header_list)\n",
        "\n",
        "# len of header columns\n",
        "header_size = len(header_list)\n",
        "\n",
        "# Set the important header \n",
        "important = ['Dénomination', 'Adresse', 'Téléphone siège/usine', 'E-mail', 'URL','Activités']\n",
        " \n",
        "# set Fixed columns name\n",
        "fixed_header_names = ['nom', 'adresse', 'tel', 'email', 'URL','activites']\n",
        "\n",
        "# len of imortant columns\n",
        "imp = len(important)\n",
        "\n",
        "# Define the new column order by switching positions of 5 columns\n",
        "new_columns = header_list[:imp] + header_list[header_size - 1:] + header_list[imp:header_size - 1]\n",
        "\n",
        "# Select the DataFrame with the new column order\n",
        "switched_df = df.select(important)\n",
        "\n",
        "# Rename multiple columns\n",
        "for old_column, new_column in zip(important, fixed_header_names):\n",
        "  switched_df = switched_df.withColumnRenamed(old_column, new_column) \n",
        "\n",
        "# Display the switched DataFrame\n",
        "switched_df.show()\n",
        "\n",
        "print(switched_df.count())\n"
      ],
      "metadata": {
        "colab": {
          "base_uri": "https://localhost:8080/"
        },
        "id": "GUb6FTSjbnSu",
        "outputId": "231cffaa-95ce-43fa-8634-fdbd5fb91580"
      },
      "execution_count": null,
      "outputs": [
        {
          "output_type": "stream",
          "name": "stdout",
          "text": [
            "['Dénomination', 'Raison Sociale', 'Responsable', 'Activités', 'Produits', 'Adresse', 'Gouvernorat', 'Téléphone siège/usine', 'Fax siège/usine', 'E-mail', 'URL', 'Régime', 'Pays du Participant Etranger', 'Entrée en production', 'Capital en DT', 'Emploi', '_c17', 'column_18']\n",
            "+--------------------+--------------------+-------------------+--------------------+---+--------------------+\n",
            "|                 nom|             adresse|                tel|               email|URL|           activites|\n",
            "+--------------------+--------------------+-------------------+--------------------+---+--------------------+\n",
            "|              3 S.B |IMM. SOUAD, RUE M...|(216) - 20 050 000 |                    |   |Instal., entretie...|\n",
            "|    3E TECHNOLOGIES |2, AVE DE FRANCE,...|(216) - 71 320 619 |                    |   |Instal., entretie...|\n",
            "|                 3R |CITE EZZOUHOUR - ...|(216) - 26 649 448 |                    |   |Instal., entretie...|\n",
            "|      AFIF TRABELSI |CITE ESSOUED - 31...|(216) - 95 006 406 |                    |   |Instal., entretie...|\n",
            "|           AFRITECH |IMM. RAYHANA, BUR...|(216) - 25 244 495 |                    |   |Instal., entretie...|\n",
            "|         ALI JARRAY |RUE ALI IBN ABI T...|(216) - 22 769 579 |                    |   |Installation, ent...|\n",
            "|ALL INDUSTRIAL SE...|RUE ABOU EL HASSE...|(216) - 25 806 800 |ouadierekik@hotma...|   |Instal., entretie...|\n",
            "|                APS |RTE MENZEL CHAKER...|(216) - 74 218 023 |                    |   |Instal., entretie...|\n",
            "|           AQUA JET |RUE HALIMA, HOUME...|(216) - 28 689 586 |                    |   |Instal., entretie...|\n",
            "|            AQUANET |68, RUE FARHAT HA...|(216) - 71 331 127 |tarek.jemaa@aquan...|   |Instal., entretie...|\n",
            "|ATD ELECTRONIC SE...|51, AVENUE DE CAR...|(216) - 71 778 648 |info@atdelectroni...|   |Instal., entretie...|\n",
            "|ATELIER DU PORT P...|Z.I. MUNICIPALE D...|(216) - 71 444 055 |                    |   |Instal., entretie...|\n",
            "|ATELIER DU PORT P...|Z.I. MUNICIPALE D...|(216) - 71 447 633 |                    |   |Instal., entretie...|\n",
            "|          ATTAKA PV |ROUTE ELHSAY GHLI...|(216) - 22 487 237 |                    |   |Instal., entretie...|\n",
            "|       AYADI HICHEM |RTE DE GREMDA KM ...|(216) - 99 233 949 |                    |   |Instal., entretie...|\n",
            "|BAHRIA-SCHUCH MAI...|RTE DE MONASTIR, ...|(216) - 36 402 231 |bahria_schuch@top...|   |Instal., entretie...|\n",
            "| BAYOUDH SLAHEDDINE |PEPINIERE DES ENT...|                   |                    |   |Installation, mon...|\n",
            "|     BELHADJ WISSEM |AVE 2 MARS 1934 -...|(216) - 97 118 310 |                    |   |Installation, ent...|\n",
            "|BEN ABDERRAHIM ZIED |CITE ABEDLA- DOUZ...|(216) - 21 070 160 |                    |   |Instal., entretie...|\n",
            "|     BEN HAMDA OMAR |RTE DE TUNIS KM 1...|(216) - 96 639 760 |                    |   |Instal., entretie...|\n",
            "+--------------------+--------------------+-------------------+--------------------+---+--------------------+\n",
            "only showing top 20 rows\n",
            "\n",
            "1760\n"
          ]
        }
      ]
    },
    {
      "cell_type": "code",
      "source": [
        "# Count occurrences of data in specified columns and sabe them\n",
        "countsAdresse = switched_df.groupBy('nom','adresse','activites').count()\n",
        "countsAdresse.show()\n",
        "countsDenomination = switched_df.groupBy('nom').count()\n",
        "countsDenomination.show()\n",
        "\n",
        "# Specify the columns to check for duplicates\n",
        "columns_to_check = ['nom','adresse','activites']\n",
        "\n",
        "# Drop rows with repeating values in the specified columns\n",
        "duplicated_df = switched_df.dropDuplicates(columns_to_check)\n",
        "print(duplicated_df.count())\n",
        "duplicated_df.show()\n"
      ],
      "metadata": {
        "colab": {
          "base_uri": "https://localhost:8080/"
        },
        "id": "U73qiCr_WDna",
        "outputId": "3d168d97-e8f2-420f-84fa-66bd91ade021"
      },
      "execution_count": null,
      "outputs": [
        {
          "output_type": "stream",
          "name": "stdout",
          "text": [
            "+--------------------+--------------------+--------------------+-----+\n",
            "|                 nom|             adresse|           activites|count|\n",
            "+--------------------+--------------------+--------------------+-----+\n",
            "|ACADEMIE EL AMAMI...|RUE SALAH EDDINE ...|Formation profess...|   10|\n",
            "|          ASTRAGALE |RUE RABAT, COMPLE...|Services de telec...|    8|\n",
            "|          A.D.E.X.I |RUE 8011, IMM. ES...|Services comptabl...|    7|\n",
            "|            ALFAMAG |PEPINIERE D'ENTRE...|Réalisation de lo...|    6|\n",
            "|             BEST T |RES. LES ROSIERS ...|Recherche-dévelop...|    3|\n",
            "|ABDELMAJID DOUIRI...|IMM. LAC DES CYGN...|Services comptabl...|    7|\n",
            "|ADVANCIA TELESERV...|ZONE D'ACTIVITE K...|Services de telec...|    8|\n",
            "|      AURESCOM SARL |ESACE AZIZ, BUREA...|Services de telec...|    8|\n",
            "|NIZAR BEN ABDESSA...|RUE DE LA REPUBLI...|Enlèvement et tra...|    9|\n",
            "|   BEN SLIMANE HEDI |MENZEL HORR, MENZ...|Transport routier...|    4|\n",
            "|              ICEES |IMM KHARROUBI, KA...|Services de prése...|    9|\n",
            "|                A2S |RZIG IMMOBILIERE ...|Services d'ingéni...|    7|\n",
            "|              A.S.C |3 BIS, RUE JAAFAR...|Administration d'...|    7|\n",
            "|        ALAYA MONGI |JEBEL HADDAD, KOR...|Transport routier...|    5|\n",
            "|                ABC |10, AVE HABIB BOU...|Etudes de marché ...|    7|\n",
            "|AICHELE JUSTIN LA...|12 BIS RUE EL FEL...|Réalisation de lo...|    6|\n",
            "|           ABC SARL |IMM. CHARKA ESC. ...|Etudes de marché ...|    7|\n",
            "|AFAK DE FORMATION...|BOUABDELLAH- SOUK...|Formation profess...|   10|\n",
            "|         AGENCY COM |AVE MAGHREB ARABE...|Services de trait...|    6|\n",
            "|     BACCOUCHE HELA |14, RUE IBN TAFAR...|   Soins dentaires. |    2|\n",
            "+--------------------+--------------------+--------------------+-----+\n",
            "only showing top 20 rows\n",
            "\n",
            "+--------------------+-----+\n",
            "|                 nom|count|\n",
            "+--------------------+-----+\n",
            "|  ABDELKARIM DHOUIB |    7|\n",
            "|          3SG MEDIA |    7|\n",
            "|  ABDENNACEUR AROUS |    5|\n",
            "|     ADEL KHADRAOUI |    5|\n",
            "|     BELHADJ WISSEM |   11|\n",
            "|          \"\"\"OLS\"\" \"|   10|\n",
            "| ENVIRONMENT- FIRST |    9|\n",
            "|          PURE AQUA |    9|\n",
            "|BEN ABDERRAHIM ZIED |   11|\n",
            "|                AFA |   10|\n",
            "|         ABID RIDHA |    5|\n",
            "|  BEN MOHAMED SONIA |    2|\n",
            "|     BEN HAMDA OMAR |   11|\n",
            "|ACADEMIE EL AMAMI...|   10|\n",
            "|        ANAS SCHOOL |   10|\n",
            "|      3C-CONSULTING |    7|\n",
            "|KROMBERG & SCHUBE...|    3|\n",
            "|GENERATION ACADEM...|    1|\n",
            "|               AFAK |   10|\n",
            "|            CGC TUN |    2|\n",
            "+--------------------+-----+\n",
            "only showing top 20 rows\n",
            "\n",
            "261\n",
            "+--------------------+--------------------+-------------------+--------------------+--------------------+--------------------+\n",
            "|                 nom|             adresse|                tel|               email|                 URL|           activites|\n",
            "+--------------------+--------------------+-------------------+--------------------+--------------------+--------------------+\n",
            "|          \"\"\"OLS\"\" \"|RTE SIDI MANSOUR ...|(216) - 25 010 505 |                    |                    |Instal., entretie...|\n",
            "|\"BEN AMER IKRAM \"...|RTE EL AIN KM3 - ...|(216) - 24 222 990 |benameurikram@gma...|                    |Enlèvement et tra...|\n",
            "|\"CABINET KINESITH...|RUE 20 MARS, TAOU...|(216) - 55 984 920 |rafik-dewahim@hot...|                    |    Soins médicaux. |\n",
            "|\"STE SAID D'ANIMA...|57, RUE ALGERIE -...|(216) - 23 240 706 |                    |                    |Manèges forains e...|\n",
            "|               0039 |APPT N°4, IMM. 35...|(216) - 71 283 199 | info@cmsservizi.it |                    |Réalisation de lo...|\n",
            "|2 EMME PLASTIC CO...|RUE DU NORD - 700...|(216) - 50 790 081 |                    |                    |Etudes de marché ...|\n",
            "|              2 SCE |Z.I. KSAR SAID, D...|(216) - 71 546 404 |    scipp@planet.tn |                    |Administration d'...|\n",
            "|      2A CONSULTING |IMM. BORJ KHEFACH...|(216) - 73 908 999 |                    |                    |Services d'ingéni...|\n",
            "|                2CW |BP49, PARC TECHNO...|(216) - 71 858 750 |mustapha.mezghani...|  http://www.2cw.tn |Services de conse...|\n",
            "|  2CW INTERNATIONAL |BP49, PARC TECHNO...|(216) - 71 858 750 |mustapha.mezghani...|                    |Etudes de marché ...|\n",
            "|               2SMA |16C, RUE SAID ABO...|(216) - 71 234 445 |contact2sma@gmail...|http://www.format...|Formation profess...|\n",
            "|              3 S.B |IMM. SOUAD, RUE M...|(216) - 20 050 000 |                    |                    |Instal., entretie...|\n",
            "|  3 W INTERNATIONAL |RUE EZZAHRA, CITE...|(216) - 97 928 485 |                    |                    |Etudes de marché ...|\n",
            "|                 3C |CITE EL AKBA N°28...|                   |                    |                    |Etudes de marché ...|\n",
            "|      3C-CONSULTING |5 PLACE MONGI BAL...|(216) - 71 353 788 |contact@3c-consul...|                    |Etudes de marché ...|\n",
            "|        3D FORDECOM |7, IMM. RUE EL KH...|(216) - 53 386 188 |                    |                    |Services de conse...|\n",
            "|    3D TECHNOLOGIES |RTE MENZEL CHAKER...|(216) - 74 451 326 | hkannou@cat-tn.com |                    |Services de conse...|\n",
            "|    3E TECHNOLOGIES |2, AVE DE FRANCE,...|(216) - 71 320 619 |                    |                    |Instal., entretie...|\n",
            "|                3IA |55,RUE HABIB BOUR...|(216) - 23 436 678 |contact@3ia-techn...|http://www.3ia-te...|Services de conse...|\n",
            "|     3M CALL CENTER |CYBER PARC, AVE D...|                   |                    |                    |Services de telec...|\n",
            "+--------------------+--------------------+-------------------+--------------------+--------------------+--------------------+\n",
            "only showing top 20 rows\n",
            "\n"
          ]
        }
      ]
    },
    {
      "cell_type": "code",
      "source": [
        "import datetime\n",
        "\n",
        "# Get the current date and time\n",
        "current_datetime = datetime.datetime.now()\n",
        "\n",
        "# Format the date and time as a string\n",
        "formatted_datetime = current_datetime.strftime(\"%Y-%m-%d_%H-%M-%S\")\n",
        "\n",
        "\n",
        "# Create the directory name using the formatted datetime\n",
        "directory_name = f\"gen_{formatted_datetime}\"\n",
        "\n",
        "# Create the directory\n",
        "os.mkdir(directory_name)\n"
      ],
      "metadata": {
        "id": "O8cZid2e-Thk"
      },
      "execution_count": null,
      "outputs": []
    },
    {
      "cell_type": "code",
      "source": [
        "# Specify the column to divide the DataFrame\n",
        "column_to_divide = 'activites'\n",
        "\n",
        "# Get the distinct values from the specified column\n",
        "distinct_values = duplicated_df.select(column_to_divide).distinct().rdd.flatMap(lambda x: x).collect()\n",
        "\n",
        "# Divide the DataFrame into smaller DataFrames based on the distinct values\n",
        "divided_dfs = {}\n",
        "for value in distinct_values:\n",
        "    divided_dfs[value] = duplicated_df.filter(duplicated_df[column_to_divide] == value)\n",
        "\n",
        "# Access the divided DataFrames for each value\n",
        "# Save each divided DataFrame into separate JSON files\n",
        "# Create the directory name using the formatted datetime\n",
        "\n",
        "for value, divided_df in divided_dfs.items():\n",
        "    # print(f\"DataFrame for {value}:\")\n",
        "    divided_df.write.json(f\"{directory_name}/{value}_{formatted_datetime}\")\n",
        "    # divided_df.show()\n"
      ],
      "metadata": {
        "id": "ZMVZzP6krHby"
      },
      "execution_count": null,
      "outputs": []
    },
    {
      "cell_type": "code",
      "source": [
        "import shutil\n",
        "import zipfile\n",
        "\n",
        "# Specify the directory path to download\n",
        "directory_path = \"/content/gen_2023-05-31_22-55-55\"\n",
        "\n",
        "# Specify the destination zip file path\n",
        "zip_file_path = \"/content/gen_2023-05-31_22-55-55.zip\"\n",
        "\n",
        "# Create a zip file of the directory and its contents\n",
        "shutil.make_archive(zip_file_path, 'zip', directory_path)\n",
        "\n",
        "# Create a ZipFile object\n",
        "zipfile_obj = zipfile.ZipFile(zip_file_path, 'w', zipfile.ZIP_DEFLATED)\n",
        "\n",
        "# Iterate through all files and directories\n",
        "for root, dirs, files in os.walk(directory_path):\n",
        "    for file in files:\n",
        "        file_path = os.path.join(root, file)\n",
        "        archive_path = os.path.relpath(file_path, directory_path)\n",
        "        zipfile_obj.write(file_path, arcname=archive_path)\n",
        "\n",
        "# Close the ZipFile object\n",
        "zipfile_obj.close()\n",
        "\n",
        "# Download the zip file\n",
        "from google.colab import files\n",
        "files.download(zip_file_path)"
      ],
      "metadata": {
        "colab": {
          "base_uri": "https://localhost:8080/",
          "height": 17
        },
        "id": "EnBmmo5XEwDc",
        "outputId": "17371440-dab5-4148-ad6c-103766bda576"
      },
      "execution_count": null,
      "outputs": [
        {
          "output_type": "display_data",
          "data": {
            "text/plain": [
              "<IPython.core.display.Javascript object>"
            ],
            "application/javascript": [
              "\n",
              "    async function download(id, filename, size) {\n",
              "      if (!google.colab.kernel.accessAllowed) {\n",
              "        return;\n",
              "      }\n",
              "      const div = document.createElement('div');\n",
              "      const label = document.createElement('label');\n",
              "      label.textContent = `Downloading \"${filename}\": `;\n",
              "      div.appendChild(label);\n",
              "      const progress = document.createElement('progress');\n",
              "      progress.max = size;\n",
              "      div.appendChild(progress);\n",
              "      document.body.appendChild(div);\n",
              "\n",
              "      const buffers = [];\n",
              "      let downloaded = 0;\n",
              "\n",
              "      const channel = await google.colab.kernel.comms.open(id);\n",
              "      // Send a message to notify the kernel that we're ready.\n",
              "      channel.send({})\n",
              "\n",
              "      for await (const message of channel.messages) {\n",
              "        // Send a message to notify the kernel that we're ready.\n",
              "        channel.send({})\n",
              "        if (message.buffers) {\n",
              "          for (const buffer of message.buffers) {\n",
              "            buffers.push(buffer);\n",
              "            downloaded += buffer.byteLength;\n",
              "            progress.value = downloaded;\n",
              "          }\n",
              "        }\n",
              "      }\n",
              "      const blob = new Blob(buffers, {type: 'application/binary'});\n",
              "      const a = document.createElement('a');\n",
              "      a.href = window.URL.createObjectURL(blob);\n",
              "      a.download = filename;\n",
              "      div.appendChild(a);\n",
              "      a.click();\n",
              "      div.remove();\n",
              "    }\n",
              "  "
            ]
          },
          "metadata": {}
        },
        {
          "output_type": "display_data",
          "data": {
            "text/plain": [
              "<IPython.core.display.Javascript object>"
            ],
            "application/javascript": [
              "download(\"download_2756b080-cf9e-4695-ad98-6cfe3924b182\", \"gen_2023-05-31_22-55-55.zip\", 76261)"
            ]
          },
          "metadata": {}
        }
      ]
    },
    {
      "cell_type": "markdown",
      "source": [],
      "metadata": {
        "id": "yAMIl2ENV6f6"
      }
    }
  ]
}